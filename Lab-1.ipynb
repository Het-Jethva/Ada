{
 "cells": [
  {
   "cell_type": "markdown",
   "metadata": {},
   "source": [
    "## SORTING ALGORITHMS\n"
   ]
  },
  {
   "cell_type": "markdown",
   "metadata": {},
   "source": [
    "#### Bubble Sort\n"
   ]
  },
  {
   "cell_type": "code",
   "execution_count": 1,
   "metadata": {},
   "outputs": [
    {
     "name": "stdout",
     "output_type": "stream",
     "text": [
      "[11, 12, 22, 25, 34, 64, 90]\n",
      "Time taken: 0.00019359588623046875\n"
     ]
    }
   ],
   "source": [
    "# bubble sort\n",
    "\n",
    "import time as t\n",
    "\n",
    "\n",
    "def bubble_sort(arr):\n",
    "    n = len(arr)\n",
    "\n",
    "    for i in range(n - 1, 0, -1):\n",
    "\n",
    "        did_swap = False\n",
    "\n",
    "        for j in range(i):\n",
    "\n",
    "            if arr[j] > arr[j + 1]:\n",
    "\n",
    "                arr[j], arr[j + 1] = arr[j + 1], arr[j]\n",
    "\n",
    "                did_swap = True\n",
    "\n",
    "        if not did_swap:\n",
    "\n",
    "            break\n",
    "    return arr\n",
    "\n",
    "\n",
    "start = t.time()\n",
    "\n",
    "\n",
    "arr = [64, 34, 25, 12, 22, 11, 90]\n",
    "\n",
    "print(bubble_sort(arr))\n",
    "\n",
    "\n",
    "end = t.time()\n",
    "\n",
    "\n",
    "print(f\"Time taken: {end - start}\")\n",
    "\n",
    "\n",
    "# take input from user without loop\n",
    "\n",
    "\n",
    "# arr = list(map(int, input().split()))\n",
    "\n",
    "# print(bubble_sort(arr))"
   ]
  },
  {
   "cell_type": "markdown",
   "metadata": {},
   "source": [
    "### Selection Sort\n"
   ]
  },
  {
   "cell_type": "code",
   "execution_count": 2,
   "metadata": {},
   "outputs": [
    {
     "name": "stdout",
     "output_type": "stream",
     "text": [
      "[11, 12, 22, 25, 34, 64, 90]\n",
      "Time taken: 0.00018787384033203125\n"
     ]
    }
   ],
   "source": [
    "# selection sort\n",
    "\n",
    "import time as t\n",
    "\n",
    "\n",
    "def selection_sort(arr):\n",
    "    n = len(arr)\n",
    "    for i in range(n):\n",
    "        min_index = i\n",
    "        for j in range(i + 1, n):\n",
    "            if arr[j] < arr[min_index]:\n",
    "                min_index = j\n",
    "        arr[i], arr[min_index] = arr[min_index], arr[i]\n",
    "    return arr\n",
    "\n",
    "\n",
    "start = t.time()\n",
    "\n",
    "arr = [64, 34, 25, 12, 22, 11, 90]\n",
    "print(selection_sort(arr))\n",
    "\n",
    "end = t.time()\n",
    "\n",
    "print(f\"Time taken: {end - start}\")"
   ]
  },
  {
   "cell_type": "markdown",
   "metadata": {},
   "source": [
    "### Insertion Sort\n"
   ]
  },
  {
   "cell_type": "code",
   "execution_count": 3,
   "metadata": {},
   "outputs": [
    {
     "name": "stdout",
     "output_type": "stream",
     "text": [
      "[11, 12, 22, 25, 34, 64, 90]\n",
      "Time taken: 0.0012028217315673828\n"
     ]
    }
   ],
   "source": [
    "# insertion sort\n",
    "\n",
    "import time as t\n",
    "\n",
    "\n",
    "def insertion_sort(arr):\n",
    "    n = len(arr)\n",
    "    for i in range(1, n):\n",
    "        key = arr[i]\n",
    "        j = i - 1\n",
    "        while j >= 0 and key < arr[j]:\n",
    "            arr[j + 1] = arr[j]\n",
    "            j -= 1\n",
    "        arr[j + 1] = key\n",
    "    return arr\n",
    "\n",
    "\n",
    "start = t.time()\n",
    "\n",
    "arr = [64, 34, 25, 12, 22, 11, 90]\n",
    "\n",
    "print(insertion_sort(arr))\n",
    "\n",
    "end = t.time()\n",
    "\n",
    "print(f\"Time taken: {end - start}\")"
   ]
  },
  {
   "cell_type": "markdown",
   "metadata": {},
   "source": [
    "### Merge Sort\n"
   ]
  },
  {
   "cell_type": "code",
   "execution_count": 4,
   "metadata": {},
   "outputs": [
    {
     "name": "stdout",
     "output_type": "stream",
     "text": [
      "[11, 12, 22, 25, 34, 64, 90]\n",
      "Time taken: 0.00013375282287597656\n"
     ]
    }
   ],
   "source": [
    "# merge sort\n",
    "\n",
    "import time as t\n",
    "\n",
    "\n",
    "def merge_sort(arr):\n",
    "    if len(arr) > 1:\n",
    "        mid = len(arr) // 2\n",
    "        left = arr[:mid]\n",
    "        right = arr[mid:]\n",
    "\n",
    "        merge_sort(left)\n",
    "        merge_sort(right)\n",
    "\n",
    "        i = j = k = 0\n",
    "\n",
    "        while i < len(left) and j < len(right):\n",
    "            if left[i] < right[j]:\n",
    "                arr[k] = left[i]\n",
    "                i += 1\n",
    "            else:\n",
    "                arr[k] = right[j]\n",
    "                j += 1\n",
    "            k += 1\n",
    "\n",
    "        while i < len(left):\n",
    "            arr[k] = left[i]\n",
    "            i += 1\n",
    "            k += 1\n",
    "\n",
    "        while j < len(right):\n",
    "            arr[k] = right[j]\n",
    "            j += 1\n",
    "            k += 1\n",
    "    return arr\n",
    "\n",
    "\n",
    "start = t.time()\n",
    "\n",
    "arr = [64, 34, 25, 12, 22, 11, 90]\n",
    "\n",
    "print(merge_sort(arr))\n",
    "\n",
    "end = t.time()\n",
    "\n",
    "print(f\"Time taken: {end - start}\")"
   ]
  },
  {
   "cell_type": "code",
   "execution_count": 5,
   "metadata": {},
   "outputs": [
    {
     "name": "stdout",
     "output_type": "stream",
     "text": [
      "[11, 12, 22, 25, 34, 64, 90]\n",
      "Time taken: 0.00013494491577148438\n"
     ]
    }
   ],
   "source": [
    "# quick sort\n",
    "\n",
    "import time as t\n",
    "import random\n",
    "\n",
    "\n",
    "def quick_sort(arr):\n",
    "    if len(arr) <= 1:\n",
    "        return arr\n",
    "    else:\n",
    "        pivot = arr.pop()\n",
    "        left = []\n",
    "        right = []\n",
    "        for item in arr:\n",
    "            if item < pivot:\n",
    "                left.append(item)\n",
    "            else:\n",
    "                right.append(item)\n",
    "        return quick_sort(left) + [pivot] + quick_sort(right)\n",
    "\n",
    "\n",
    "start = t.time()\n",
    "\n",
    "arr = [64, 34, 25, 12, 22, 11, 90]\n",
    "\n",
    "print(quick_sort(arr))\n",
    "\n",
    "end = t.time()\n",
    "\n",
    "print(f\"Time taken: {end - start}\")"
   ]
  },
  {
   "cell_type": "code",
   "execution_count": 6,
   "metadata": {},
   "outputs": [
    {
     "ename": "ValueError",
     "evalue": "invalid literal for int() with base 10: ''",
     "output_type": "error",
     "traceback": [
      "\u001b[0;31m---------------------------------------------------------------------------\u001b[0m",
      "\u001b[0;31mValueError\u001b[0m                                Traceback (most recent call last)",
      "Cell \u001b[0;32mIn[6], line 10\u001b[0m\n\u001b[1;32m      6\u001b[0m             \u001b[38;5;28;01mreturn\u001b[39;00m index\n\u001b[1;32m      7\u001b[0m     \u001b[38;5;28;01mreturn\u001b[39;00m \u001b[38;5;241m-\u001b[39m\u001b[38;5;241m1\u001b[39m\n\u001b[0;32m---> 10\u001b[0m a \u001b[38;5;241m=\u001b[39m \u001b[38;5;28mint\u001b[39m(\u001b[38;5;28minput\u001b[39m(\u001b[38;5;124m\"\u001b[39m\u001b[38;5;124mEnter How Many Element You Want To Enter: \u001b[39m\u001b[38;5;124m\"\u001b[39m))\n\u001b[1;32m     11\u001b[0m b \u001b[38;5;241m=\u001b[39m []\n\u001b[1;32m     12\u001b[0m \u001b[38;5;28;01mfor\u001b[39;00m i \u001b[38;5;129;01min\u001b[39;00m \u001b[38;5;28mrange\u001b[39m(a):\n",
      "\u001b[0;31mValueError\u001b[0m: invalid literal for int() with base 10: ''"
     ]
    }
   ],
   "source": [
    "# Linear Search\n",
    "def linearsearch(arr, target):\n",
    "    n = len(arr)\n",
    "    for index in range(n):\n",
    "        if arr[index] == target:\n",
    "            return index\n",
    "    return -1\n",
    "\n",
    "\n",
    "a = int(input(\"Enter How Many Element You Want To Enter: \"))\n",
    "b = []\n",
    "for i in range(a):\n",
    "    c = int(input(\"Enter Element\"))\n",
    "    b.append(c)\n",
    "d = int(input(\"Enter Your Target\"))\n",
    "if d in b:\n",
    "    e = linearsearch(b, d)\n",
    "    print(\"In Array :\", b, \"Target :\", d, \"Was Found at index\", e)\n",
    "else:\n",
    "    print(\"Invalid Choice\")"
   ]
  },
  {
   "cell_type": "code",
   "execution_count": null,
   "metadata": {},
   "outputs": [
    {
     "name": "stdout",
     "output_type": "stream",
     "text": [
      "In Array : [1, 2, 3] Target : 3 Was Found At index 2\n"
     ]
    }
   ],
   "source": [
    "# Binary Search\n",
    "def binarysearch(arr, low, high, x):\n",
    "    if high >= low:\n",
    "        mid = (high + low) // 2\n",
    "        if arr[mid] == x:\n",
    "            return mid\n",
    "        elif arr[mid] > x:\n",
    "            return binarysearch(arr, low, mid - 1, x)\n",
    "        else:\n",
    "            return binarysearch(arr, mid + 1, high, x)\n",
    "    else:\n",
    "        return -1\n",
    "\n",
    "\n",
    "a = int(input(\"Enter How Many Element You Want To Enter: \"))\n",
    "b = []\n",
    "for i in range(a):\n",
    "    c = int(input(\"Enter Element\"))\n",
    "    b.append(c)\n",
    "d = int(input(\"Enter Your Target\"))\n",
    "if d in b:\n",
    "    e = binarysearch(b, 0, len(b) - 1, d)\n",
    "    print(\"In Array :\", b, \"Target :\", d, \"Was Found At index\", e)\n",
    "else:\n",
    "    print(\"Invalid Choice\")"
   ]
  },
  {
   "cell_type": "code",
   "execution_count": null,
   "metadata": {},
   "outputs": [
    {
     "name": "stdout",
     "output_type": "stream",
     "text": [
      "{'A'}\n",
      "['B', 'C', 'B', 'C']\n",
      "{'B'}\n",
      "['A', 'A', 'C', 'D', 'C', 'D']\n",
      "{'C'}\n",
      "['A', 'B', 'A', 'B', 'D', 'D']\n",
      "{'D'}\n",
      "['B', 'C', 'B', 'C']\n"
     ]
    }
   ],
   "source": [
    "# Adjacency List Undirected\n",
    "graph = {}\n",
    "\n",
    "\n",
    "def add_edge(graph, u, v):\n",
    "    if u not in graph:\n",
    "        graph[u] = []\n",
    "    if v not in graph:\n",
    "        graph[v] = []\n",
    "    graph[u].append(v)\n",
    "    graph[v].append(u)\n",
    "\n",
    "\n",
    "add_edge(graph, \"A\", \"B\")\n",
    "add_edge(graph, \"A\", \"C\")\n",
    "add_edge(graph, \"B\", \"A\")\n",
    "add_edge(graph, \"B\", \"C\")\n",
    "add_edge(graph, \"B\", \"D\")\n",
    "add_edge(graph, \"C\", \"A\")\n",
    "add_edge(graph, \"C\", \"B\")\n",
    "add_edge(graph, \"C\", \"D\")\n",
    "add_edge(graph, \"D\", \"B\")\n",
    "add_edge(graph, \"D\", \"C\")\n",
    "\n",
    "for node in graph:\n",
    "    print({node})\n",
    "    print(graph[node])"
   ]
  },
  {
   "cell_type": "code",
   "execution_count": null,
   "metadata": {},
   "outputs": [
    {
     "name": "stdout",
     "output_type": "stream",
     "text": [
      "{'A'}\n",
      "['B']\n",
      "{'B'}\n",
      "[]\n",
      "{'C'}\n",
      "[]\n",
      "{'D'}\n",
      "[]\n"
     ]
    }
   ],
   "source": [
    "# Adjacency List Directed\n",
    "graph = {}\n",
    "\n",
    "\n",
    "def add_edge(graph, u, v):\n",
    "    if u not in graph:\n",
    "        graph[u] = []\n",
    "        graph[u].append(v)\n",
    "    if v not in graph:\n",
    "        graph[v] = []\n",
    "\n",
    "\n",
    "add_edge(graph, \"A\", \"B\")\n",
    "add_edge(graph, \"A\", \"C\")\n",
    "add_edge(graph, \"B\", \"A\")\n",
    "add_edge(graph, \"B\", \"C\")\n",
    "add_edge(graph, \"B\", \"D\")\n",
    "add_edge(graph, \"C\", \"A\")\n",
    "add_edge(graph, \"C\", \"B\")\n",
    "add_edge(graph, \"C\", \"D\")\n",
    "add_edge(graph, \"D\", \"B\")\n",
    "add_edge(graph, \"D\", \"C\")\n",
    "\n",
    "for node in graph:\n",
    "    print({node})\n",
    "    print(graph[node])"
   ]
  },
  {
   "cell_type": "code",
   "execution_count": null,
   "metadata": {},
   "outputs": [
    {
     "name": "stdout",
     "output_type": "stream",
     "text": [
      "[[0 1 1 0]\n",
      " [1 0 1 0]\n",
      " [1 1 0 1]\n",
      " [0 0 1 0]]\n"
     ]
    }
   ],
   "source": [
    "# Adjacency Matrix Undirected\n",
    "import numpy as np\n",
    "\n",
    "num_ver = 4\n",
    "adj_matrix = np.zeros((num_ver, num_ver), dtype=int)\n",
    "# print(adj_matrix)\n",
    "edges = [(0, 1), (0, 2), (1, 2), (2, 3)]\n",
    "for edge in edges:\n",
    "    v1, v2 = edge\n",
    "    adj_matrix[v1][v2] = 1\n",
    "    adj_matrix[v2][v1] = 1\n",
    "print(adj_matrix)"
   ]
  },
  {
   "cell_type": "code",
   "execution_count": null,
   "metadata": {},
   "outputs": [
    {
     "name": "stdout",
     "output_type": "stream",
     "text": [
      "[[0 1 1 0]\n",
      " [0 0 1 0]\n",
      " [0 0 0 1]\n",
      " [0 0 0 0]]\n"
     ]
    }
   ],
   "source": [
    "# Adjacency Matrix directed\n",
    "import numpy as np\n",
    "\n",
    "num_ver = 4\n",
    "adj_matrix = np.zeros((num_ver, num_ver), dtype=int)\n",
    "# print(adj_matrix)\n",
    "edges = [(0, 1), (0, 2), (1, 2), (2, 3)]\n",
    "for edge in edges:\n",
    "    v1, v2 = edge\n",
    "    adj_matrix[v1][v2] = 1\n",
    "    # adj_matrix[v2][v1] = 1\n",
    "print(adj_matrix)"
   ]
  },
  {
   "cell_type": "markdown",
   "metadata": {},
   "source": [
    "### BFS\n"
   ]
  },
  {
   "cell_type": "code",
   "execution_count": null,
   "metadata": {},
   "outputs": [
    {
     "name": "stdout",
     "output_type": "stream",
     "text": [
      "BFS: \n",
      "5 3 7 2 4 8 "
     ]
    }
   ],
   "source": [
    "# BFS\n",
    "\n",
    "graph = {\"5\": [\"3\", \"7\"], \"3\": [\"2\", \"4\"], \"2\": [], \"4\": [], \"7\": [\"8\"], \"8\": []}\n",
    "\n",
    "visited = []\n",
    "queue = []\n",
    "\n",
    "\n",
    "def bfs(visited, graph, node):\n",
    "    visited.append(node)\n",
    "    queue.append(node)\n",
    "\n",
    "    while queue:\n",
    "        m = queue.pop(0)\n",
    "        print(m, end=\" \")\n",
    "\n",
    "        for neighbour in graph[m]:\n",
    "            if neighbour not in visited:\n",
    "                visited.append(neighbour)\n",
    "                queue.append(neighbour)\n",
    "\n",
    "\n",
    "print(\"BFS: \")\n",
    "bfs(visited, graph, \"5\")"
   ]
  },
  {
   "cell_type": "code",
   "execution_count": 7,
   "metadata": {},
   "outputs": [
    {
     "name": "stdout",
     "output_type": "stream",
     "text": [
      "\n",
      "DFS: \n",
      "5 3 2 4 7 8 "
     ]
    }
   ],
   "source": [
    "# DFS\n",
    "\n",
    "graph = {\"5\": [\"3\", \"7\"], \"3\": [\"2\", \"4\"], \"2\": [], \"4\": [], \"7\": [\"8\"], \"8\": []}\n",
    "\n",
    "visited = set()\n",
    "\n",
    "\n",
    "def dfs(visited, graph, node):\n",
    "    if node not in visited:\n",
    "        print(node, end=\" \")\n",
    "        visited.add(node)\n",
    "        for neighbour in graph[node]:\n",
    "            dfs(visited, graph, neighbour)\n",
    "\n",
    "\n",
    "print(\"\\nDFS: \")\n",
    "dfs(visited, graph, \"5\")"
   ]
  },
  {
   "cell_type": "code",
   "execution_count": null,
   "metadata": {},
   "outputs": [],
   "source": []
  },
  {
   "cell_type": "code",
   "execution_count": null,
   "metadata": {},
   "outputs": [
    {
     "name": "stdout",
     "output_type": "stream",
     "text": [
      "{'1': 0, '2': 2, '3': 3, '4': 8, '5': 6, '6': 9}\n"
     ]
    }
   ],
   "source": [
    "# dijkstra algorithm\n",
    "\n",
    "import heapq\n",
    "\n",
    "\n",
    "def dijkstra(graph, start):\n",
    "    distances = {node: float(\"infinity\") for node in graph}\n",
    "    distances[start] = 0\n",
    "    pq = [(0, start)]\n",
    "    while pq:\n",
    "        current_distance, current_node = heapq.heappop(pq)\n",
    "        if current_distance > distances[current_node]:\n",
    "            continue\n",
    "        for neighbor, weight in graph[current_node].items():\n",
    "            distance = current_distance + weight\n",
    "            if distance < distances[neighbor]:\n",
    "                distances[neighbor] = distance\n",
    "                heapq.heappush(pq, (distance, neighbor))\n",
    "    return distances\n",
    "\n",
    "\n",
    "graph = {\n",
    "    # \"A\": {\"B\": 1, \"C\": 4},\n",
    "    # \"B\": {\"A\": 1, \"C\": 2, \"D\": 5},\n",
    "    # \"C\": {\"A\": 4, \"B\": 2, \"D\": 1},\n",
    "    # \"D\": {\"B\": 5, \"C\": 1},\n",
    "    \"1\": {\n",
    "        \"2\": 2,\n",
    "        \"3\": 4,\n",
    "    },\n",
    "    \"2\": {\"3\": 1, \"4\": 7},\n",
    "    \"3\": {\"5\": 3},\n",
    "    \"4\": {\"6\": 1},\n",
    "    \"5\": {\"4\": 2, \"6\": 5},\n",
    "    \"6\": {},\n",
    "}\n",
    "\n",
    "print(dijkstra(graph, \"1\"))"
   ]
  },
  {
   "cell_type": "code",
   "execution_count": null,
   "metadata": {},
   "outputs": [
    {
     "name": "stdout",
     "output_type": "stream",
     "text": [
      "Distance from source to 0 is inf\n",
      "Distance from source to 1 is 0\n",
      "Distance from source to 2 is 2\n",
      "Distance from source to 3 is 3\n",
      "Distance from source to 4 is 8\n",
      "Distance from source to 5 is 6\n",
      "Distance from source to 6 is 9\n"
     ]
    }
   ],
   "source": [
    "# bellman ford algorithm\n",
    "\n",
    "\n",
    "def bellman_ford(graph, vertices, source):\n",
    "    distance = [float(\"infinity\")] * vertices\n",
    "    distance[source] = 0\n",
    "    for _ in range(vertices - 1):\n",
    "        for u, v, w in graph:\n",
    "            if distance[u] != float(\"infinity\") and distance[u] + w < distance[v]:\n",
    "                distance[v] = distance[u] + w\n",
    "    for u, v, w in graph:\n",
    "        if distance[u] != float(\"infinity\") and distance[u] + w < distance[v]:\n",
    "            print(\"Graph contains negative weight cycle\")\n",
    "            return\n",
    "    for i in range(vertices):\n",
    "        print(f\"Distance from source to {i} is {distance[i]}\")\n",
    "\n",
    "\n",
    "graph = [\n",
    "    (1, 2, 2),\n",
    "    (1, 3, 4),\n",
    "    (2, 3, 1),\n",
    "    (2, 4, 7),\n",
    "    (3, 5, 3),\n",
    "    (4, 6, 1),\n",
    "    (5, 4, 2),\n",
    "    (5, 6, 5),\n",
    "]\n",
    "bellman_ford(graph, 7, 1)"
   ]
  },
  {
   "cell_type": "code",
   "execution_count": 1,
   "metadata": {},
   "outputs": [
    {
     "name": "stdout",
     "output_type": "stream",
     "text": [
      "240.0\n"
     ]
    }
   ],
   "source": [
    "# knapsack problem\n",
    "def fractional_knapsack(capacity, items):\n",
    "    items.sort(key=lambda x: x[1] / x[0], reverse=True)\n",
    "    total_value = 0\n",
    "    for weight, profit in items:\n",
    "        if capacity > 0:\n",
    "            if weight <= capacity:\n",
    "                capacity -= weight\n",
    "                total_value += profit\n",
    "            else:\n",
    "                total_value += profit * (capacity / weight)\n",
    "                capacity = 0\n",
    "                break\n",
    "    return total_value\n",
    "\n",
    "\n",
    "items = [(10, 60), (20, 100), (30, 120)]\n",
    "capacity = 50\n",
    "print(fractional_knapsack(capacity, items))"
   ]
  },
  {
   "cell_type": "code",
   "execution_count": 2,
   "metadata": {},
   "outputs": [
    {
     "name": "stdout",
     "output_type": "stream",
     "text": [
      "[0, 0, 0, 0, 0, 0]\n",
      "[0, 0, 12, 12, 12, 12]\n",
      "[0, 10, 12, 22, 22, 22]\n",
      "[0, 10, 12, 22, 30, 32]\n",
      "[0, 10, 15, 25, 30, 37]\n",
      "max value: 37\n"
     ]
    }
   ],
   "source": [
    "# 0 1 knapsack problem\n",
    "\n",
    "def knapsack(values, weights, capacity):\n",
    "    n = len(values)\n",
    "    dp = [[0] * (capacity + 1) for _ in range(n + 1)]\n",
    "    for i in range(1, n + 1):\n",
    "        for w in range(1, capacity + 1):\n",
    "            if weights[i - 1] <= w:\n",
    "                dp[i][w] = max(dp[i - 1][w], values[i - 1] + dp[i - 1][w - weights[i - 1]])\n",
    "            else:\n",
    "                dp[i][w] = dp[i - 1][w]\n",
    "\n",
    "    for row in dp:\n",
    "        print(row)\n",
    "\n",
    "    return dp[n][capacity]\n",
    "\n",
    "values = [12, 10, 20, 15]\n",
    "weights = [2, 1, 3, 2]\n",
    "capacity = 5\n",
    "\n",
    "max_value = knapsack(values, weights, capacity)\n",
    "print(f\"max value: {max_value}\")\n"
   ]
  },
  {
   "cell_type": "code",
   "execution_count": null,
   "metadata": {},
   "outputs": [
    {
     "name": "stdout",
     "output_type": "stream",
     "text": [
      "[5, 6, 7, 11, 12, 13]\n",
      "[13, 12, 11, 7, 6, 5]\n"
     ]
    }
   ],
   "source": [
    "# heap sort (max heap)\n",
    "\n",
    "\n",
    "def max_heap(arr, n, i):\n",
    "    largest = i\n",
    "    left = 2 * i + 1\n",
    "    right = 2 * i + 2\n",
    "    if left < n and arr[left] > arr[largest]:\n",
    "        largest = left\n",
    "    if right < n and arr[right] > arr[largest]:\n",
    "        largest = right\n",
    "    if largest != i:\n",
    "        arr[i], arr[largest] = arr[largest], arr[i]\n",
    "        max_heap(arr, n, largest)\n",
    "\n",
    "\n",
    "def heap_sort(arr):\n",
    "    n = len(arr)\n",
    "    for i in range(n // 2 - 1, -1, -1):\n",
    "        max_heap(arr, n, i)\n",
    "    for i in range(n - 1, 0, -1):\n",
    "        arr[i], arr[0] = arr[0], arr[i]\n",
    "        max_heap(arr, i, 0)\n",
    "    return arr\n",
    "\n",
    "\n",
    "arr = [12, 11, 13, 5, 6, 7]\n",
    "\n",
    "print(heap_sort(arr))\n",
    "\n",
    "# heap sort (min heap)\n",
    "\n",
    "\n",
    "def min_heap(arr, n, i):\n",
    "    smallest = i\n",
    "    left = 2 * i + 1\n",
    "    right = 2 * i + 2\n",
    "    if left < n and arr[left] < arr[smallest]:\n",
    "        smallest = left\n",
    "    if right < n and arr[right] < arr[smallest]:\n",
    "        smallest = right\n",
    "    if smallest != i:\n",
    "        arr[i], arr[smallest] = arr[smallest], arr[i]\n",
    "        min_heap(arr, n, smallest)\n",
    "\n",
    "\n",
    "def heap_sort(arr):\n",
    "    n = len(arr)\n",
    "    for i in range(n // 2 - 1, -1, -1):\n",
    "        min_heap(arr, n, i)\n",
    "    for i in range(n - 1, 0, -1):\n",
    "        arr[i], arr[0] = arr[0], arr[i]\n",
    "        min_heap(arr, i, 0)\n",
    "    return arr\n",
    "\n",
    "\n",
    "arr = [12, 11, 13, 5, 6, 7]\n",
    "\n",
    "print(heap_sort(arr))"
   ]
  },
  {
   "cell_type": "code",
   "execution_count": 15,
   "metadata": {},
   "outputs": [
    {
     "name": "stdout",
     "output_type": "stream",
     "text": [
      "The 3 th smallest element is 7\n"
     ]
    }
   ],
   "source": [
    "# ith order statistics (quick select)\n",
    "\n",
    "import random\n",
    "\n",
    "def quick_select(arr, k):\n",
    "    if len(arr) == 1:\n",
    "        return arr[0]\n",
    "    pivot = random.choice(arr)\n",
    "    left = [x for x in arr if x < pivot]\n",
    "    mid = [x for x in arr if x == pivot]\n",
    "    right = [x for x in arr if x > pivot]\n",
    "\n",
    "    if k < len(left):\n",
    "        return quick_select(left, k)\n",
    "    elif k < len(left) + len(mid):\n",
    "        return mid[0]\n",
    "    else:\n",
    "        return quick_select(right, k - len(left) - len(mid))\n",
    "\n",
    "arr = [12, 11, 13, 5, 6, 7]\n",
    "\n",
    "k = 2\n",
    "\n",
    "print(f\"The {k+1} th smallest element is {quick_select(arr,k)}\")"
   ]
  },
  {
   "cell_type": "code",
   "execution_count": null,
   "metadata": {},
   "outputs": [],
   "source": [
    "# n queen problem\n",
    "\n",
    "\n"
   ]
  },
  {
   "cell_type": "code",
   "execution_count": null,
   "metadata": {},
   "outputs": [],
   "source": []
  }
 ],
 "metadata": {
  "kernelspec": {
   "display_name": "Python 3",
   "language": "python",
   "name": "python3"
  },
  "language_info": {
   "codemirror_mode": {
    "name": "ipython",
    "version": 3
   },
   "file_extension": ".py",
   "mimetype": "text/x-python",
   "name": "python",
   "nbconvert_exporter": "python",
   "pygments_lexer": "ipython3",
   "version": "3.12.7"
  }
 },
 "nbformat": 4,
 "nbformat_minor": 2
}
