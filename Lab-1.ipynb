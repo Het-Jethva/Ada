{
 "cells": [
  {
   "cell_type": "markdown",
   "metadata": {},
   "source": [
    "## SORTING ALGORITHMS\n"
   ]
  },
  {
   "cell_type": "markdown",
   "metadata": {},
   "source": [
    "#### Bubble Sort\n"
   ]
  },
  {
   "cell_type": "code",
   "execution_count": null,
   "metadata": {},
   "outputs": [
    {
     "name": "stdout",
     "output_type": "stream",
     "text": [
      "[11, 12, 22, 25, 34, 64, 90]\n",
      "Time taken: 0.00019359588623046875\n"
     ]
    }
   ],
   "source": [
    "# bubble sort\n",
    "\n",
    "import time as t\n",
    "\n",
    "\n",
    "def bubble_sort(arr):\n",
    "    n = len(arr)\n",
    "    for i in range(n - 1, 0, -1):\n",
    "        did_swap = False\n",
    "        for j in range(i):\n",
    "            if arr[j] > arr[j + 1]:\n",
    "                arr[j], arr[j + 1] = arr[j + 1], arr[j]\n",
    "                did_swap = True\n",
    "        if not did_swap:\n",
    "            break\n",
    "    return arr\n",
    "\n",
    "\n",
    "start = t.time()\n",
    "\n",
    "arr = [64, 34, 25, 12, 22, 11, 90]\n",
    "\n",
    "print(bubble_sort(arr))\n",
    "\n",
    "\n",
    "end = t.time()\n",
    "\n",
    "\n",
    "print(f\"Time taken: {end - start}\")\n",
    "\n",
    "# take input from user without loop\n",
    "\n",
    "# arr = list(map(int, input().split()))\n",
    "\n",
    "# print(bubble_sort(arr))"
   ]
  },
  {
   "cell_type": "markdown",
   "metadata": {},
   "source": [
    "### Selection Sort\n"
   ]
  },
  {
   "cell_type": "code",
   "execution_count": 2,
   "metadata": {},
   "outputs": [
    {
     "name": "stdout",
     "output_type": "stream",
     "text": [
      "[11, 12, 22, 25, 34, 64, 90]\n",
      "Time taken: 0.00018787384033203125\n"
     ]
    }
   ],
   "source": [
    "# selection sort\n",
    "\n",
    "import time as t\n",
    "\n",
    "\n",
    "def selection_sort(arr):\n",
    "    n = len(arr)\n",
    "    for i in range(n):\n",
    "        min_index = i\n",
    "        for j in range(i + 1, n):\n",
    "            if arr[j] < arr[min_index]:\n",
    "                min_index = j\n",
    "        arr[i], arr[min_index] = arr[min_index], arr[i]\n",
    "    return arr\n",
    "\n",
    "\n",
    "start = t.time()\n",
    "\n",
    "arr = [64, 34, 25, 12, 22, 11, 90]\n",
    "print(selection_sort(arr))\n",
    "\n",
    "end = t.time()\n",
    "\n",
    "print(f\"Time taken: {end - start}\")"
   ]
  },
  {
   "cell_type": "markdown",
   "metadata": {},
   "source": [
    "### Insertion Sort\n"
   ]
  },
  {
   "cell_type": "code",
   "execution_count": 3,
   "metadata": {},
   "outputs": [
    {
     "name": "stdout",
     "output_type": "stream",
     "text": [
      "[11, 12, 22, 25, 34, 64, 90]\n",
      "Time taken: 0.0012028217315673828\n"
     ]
    }
   ],
   "source": [
    "# insertion sort\n",
    "\n",
    "import time as t\n",
    "\n",
    "\n",
    "def insertion_sort(arr):\n",
    "    n = len(arr)\n",
    "    for i in range(1, n):\n",
    "        key = arr[i]\n",
    "        j = i - 1\n",
    "        while j >= 0 and key < arr[j]:\n",
    "            arr[j + 1] = arr[j]\n",
    "            j -= 1\n",
    "        arr[j + 1] = key\n",
    "    return arr\n",
    "\n",
    "\n",
    "start = t.time()\n",
    "\n",
    "arr = [64, 34, 25, 12, 22, 11, 90]\n",
    "\n",
    "print(insertion_sort(arr))\n",
    "\n",
    "end = t.time()\n",
    "\n",
    "print(f\"Time taken: {end - start}\")"
   ]
  },
  {
   "cell_type": "markdown",
   "metadata": {},
   "source": [
    "### Merge Sort\n"
   ]
  },
  {
   "cell_type": "code",
   "execution_count": 4,
   "metadata": {},
   "outputs": [
    {
     "name": "stdout",
     "output_type": "stream",
     "text": [
      "[11, 12, 22, 25, 34, 64, 90]\n",
      "Time taken: 0.00013375282287597656\n"
     ]
    }
   ],
   "source": [
    "# merge sort\n",
    "\n",
    "import time as t\n",
    "\n",
    "\n",
    "def merge_sort(arr):\n",
    "    if len(arr) > 1:\n",
    "        mid = len(arr) // 2\n",
    "        left = arr[:mid]\n",
    "        right = arr[mid:]\n",
    "\n",
    "        merge_sort(left)\n",
    "        merge_sort(right)\n",
    "\n",
    "        i = j = k = 0\n",
    "\n",
    "        while i < len(left) and j < len(right):\n",
    "            if left[i] < right[j]:\n",
    "                arr[k] = left[i]\n",
    "                i += 1\n",
    "            else:\n",
    "                arr[k] = right[j]\n",
    "                j += 1\n",
    "            k += 1\n",
    "\n",
    "        while i < len(left):\n",
    "            arr[k] = left[i]\n",
    "            i += 1\n",
    "            k += 1\n",
    "\n",
    "        while j < len(right):\n",
    "            arr[k] = right[j]\n",
    "            j += 1\n",
    "            k += 1\n",
    "    return arr\n",
    "\n",
    "\n",
    "start = t.time()\n",
    "\n",
    "arr = [64, 34, 25, 12, 22, 11, 90]\n",
    "\n",
    "print(merge_sort(arr))\n",
    "\n",
    "end = t.time()\n",
    "\n",
    "print(f\"Time taken: {end - start}\")"
   ]
  },
  {
   "cell_type": "code",
   "execution_count": null,
   "metadata": {},
   "outputs": [
    {
     "name": "stdout",
     "output_type": "stream",
     "text": [
      "[11, 12, 22, 25, 34, 64, 90]\n",
      "Time taken: 0.00013494491577148438\n"
     ]
    }
   ],
   "source": [
    "# quick sort\n",
    "\n",
    "import time as t\n",
    "\n",
    "\n",
    "def quick_sort(arr):\n",
    "    if len(arr) <= 1:\n",
    "        return arr\n",
    "    else:\n",
    "        pivot = arr.pop()\n",
    "        left = []\n",
    "        right = []\n",
    "        for item in arr:\n",
    "            if item < pivot:\n",
    "                left.append(item)\n",
    "            else:\n",
    "                right.append(item)\n",
    "        return quick_sort(left) + [pivot] + quick_sort(right)\n",
    "\n",
    "\n",
    "start = t.time()\n",
    "\n",
    "arr = [64, 34, 25, 12, 22, 11, 90]\n",
    "\n",
    "print(quick_sort(arr))\n",
    "\n",
    "end = t.time()\n",
    "\n",
    "print(f\"Time taken: {end - start}\")"
   ]
  },
  {
   "cell_type": "markdown",
   "metadata": {},
   "source": [
    "# pr 2\n"
   ]
  },
  {
   "cell_type": "code",
   "execution_count": 1,
   "metadata": {},
   "outputs": [
    {
     "name": "stdout",
     "output_type": "stream",
     "text": [
      "In Array : [3, 5, 4, 2, 1] Target : 1 Was Found at index 4\n"
     ]
    }
   ],
   "source": [
    "# Linear Search\n",
    "def linearsearch(arr, target):\n",
    "    n = len(arr)\n",
    "    for index in range(n):\n",
    "        if arr[index] == target:\n",
    "            return index\n",
    "    return -1\n",
    "\n",
    "\n",
    "a = int(input(\"Enter How Many Element You Want To Enter: \"))\n",
    "b = []\n",
    "for i in range(a):\n",
    "    c = int(input(\"Enter Element\"))\n",
    "    b.append(c)\n",
    "d = int(input(\"Enter Your Target\"))\n",
    "if d in b:\n",
    "    e = linearsearch(b, d)\n",
    "    print(\"In Array :\", b, \"Target :\", d, \"Was Found at index\", e)\n",
    "else:\n",
    "    print(\"Invalid Choice\")"
   ]
  },
  {
   "cell_type": "code",
   "execution_count": null,
   "metadata": {},
   "outputs": [
    {
     "name": "stdout",
     "output_type": "stream",
     "text": [
      "In Array : [1, 2, 3] Target : 3 Was Found At index 2\n"
     ]
    }
   ],
   "source": [
    "# Binary Search\n",
    "def binarysearch(arr, low, high, x):\n",
    "    if high >= low:\n",
    "        mid = (high + low) // 2\n",
    "        if arr[mid] == x:\n",
    "            return mid\n",
    "        elif arr[mid] > x:\n",
    "            return binarysearch(arr, low, mid - 1, x)\n",
    "        else:\n",
    "            return binarysearch(arr, mid + 1, high, x)\n",
    "    else:\n",
    "        return -1\n",
    "\n",
    "\n",
    "a = int(input(\"Enter How Many Element You Want To Enter: \"))\n",
    "b = []\n",
    "for i in range(a):\n",
    "    c = int(input(\"Enter Element\"))\n",
    "    b.append(c)\n",
    "d = int(input(\"Enter Your Target\"))\n",
    "if d in b:\n",
    "    e = binarysearch(b, 0, len(b) - 1, d)\n",
    "    print(\"In Array :\", b, \"Target :\", d, \"Was Found At index\", e)\n",
    "else:\n",
    "    print(\"Invalid Choice\")"
   ]
  },
  {
   "cell_type": "markdown",
   "metadata": {},
   "source": [
    "# pr 3\n"
   ]
  },
  {
   "cell_type": "code",
   "execution_count": null,
   "metadata": {},
   "outputs": [
    {
     "name": "stdout",
     "output_type": "stream",
     "text": [
      "{'A'}\n",
      "['B', 'C', 'B', 'C']\n",
      "{'B'}\n",
      "['A', 'A', 'C', 'D', 'C', 'D']\n",
      "{'C'}\n",
      "['A', 'B', 'A', 'B', 'D', 'D']\n",
      "{'D'}\n",
      "['B', 'C', 'B', 'C']\n"
     ]
    }
   ],
   "source": [
    "# Adjacency List Undirected\n",
    "graph = {}\n",
    "\n",
    "\n",
    "def add_edge(graph, u, v):\n",
    "    if u not in graph:\n",
    "        graph[u] = []\n",
    "    if v not in graph:\n",
    "        graph[v] = []\n",
    "    graph[u].append(v)\n",
    "    graph[v].append(u)\n",
    "\n",
    "\n",
    "add_edge(graph, \"A\", \"B\")\n",
    "add_edge(graph, \"A\", \"C\")\n",
    "add_edge(graph, \"B\", \"A\")\n",
    "add_edge(graph, \"B\", \"C\")\n",
    "add_edge(graph, \"B\", \"D\")\n",
    "add_edge(graph, \"C\", \"A\")\n",
    "add_edge(graph, \"C\", \"B\")\n",
    "add_edge(graph, \"C\", \"D\")\n",
    "add_edge(graph, \"D\", \"B\")\n",
    "add_edge(graph, \"D\", \"C\")\n",
    "\n",
    "for node in graph:\n",
    "    print({node})\n",
    "    print(graph[node])"
   ]
  },
  {
   "cell_type": "code",
   "execution_count": null,
   "metadata": {},
   "outputs": [
    {
     "name": "stdout",
     "output_type": "stream",
     "text": [
      "{'A'}\n",
      "['B']\n",
      "{'B'}\n",
      "[]\n",
      "{'C'}\n",
      "[]\n",
      "{'D'}\n",
      "[]\n"
     ]
    }
   ],
   "source": [
    "# Adjacency List Directed\n",
    "graph = {}\n",
    "\n",
    "\n",
    "def add_edge(graph, u, v):\n",
    "    if u not in graph:\n",
    "        graph[u] = []\n",
    "        graph[u].append(v)\n",
    "    if v not in graph:\n",
    "        graph[v] = []\n",
    "\n",
    "\n",
    "add_edge(graph, \"A\", \"B\")\n",
    "add_edge(graph, \"A\", \"C\")\n",
    "add_edge(graph, \"B\", \"A\")\n",
    "add_edge(graph, \"B\", \"C\")\n",
    "add_edge(graph, \"B\", \"D\")\n",
    "add_edge(graph, \"C\", \"A\")\n",
    "add_edge(graph, \"C\", \"B\")\n",
    "add_edge(graph, \"C\", \"D\")\n",
    "add_edge(graph, \"D\", \"B\")\n",
    "add_edge(graph, \"D\", \"C\")\n",
    "\n",
    "for node in graph:\n",
    "    print({node})\n",
    "    print(graph[node])"
   ]
  },
  {
   "cell_type": "code",
   "execution_count": null,
   "metadata": {},
   "outputs": [
    {
     "name": "stdout",
     "output_type": "stream",
     "text": [
      "[[0 1 1 0]\n",
      " [1 0 1 0]\n",
      " [1 1 0 1]\n",
      " [0 0 1 0]]\n"
     ]
    }
   ],
   "source": [
    "# Adjacency Matrix Undirected\n",
    "import numpy as np\n",
    "\n",
    "num_ver = 4\n",
    "adj_matrix = np.zeros((num_ver, num_ver), dtype=int)\n",
    "# print(adj_matrix)\n",
    "edges = [(0, 1), (0, 2), (1, 2), (2, 3)]\n",
    "for edge in edges:\n",
    "    v1, v2 = edge\n",
    "    adj_matrix[v1][v2] = 1\n",
    "    adj_matrix[v2][v1] = 1\n",
    "print(adj_matrix)"
   ]
  },
  {
   "cell_type": "code",
   "execution_count": null,
   "metadata": {},
   "outputs": [
    {
     "name": "stdout",
     "output_type": "stream",
     "text": [
      "[[0 1 1 0]\n",
      " [0 0 1 0]\n",
      " [0 0 0 1]\n",
      " [0 0 0 0]]\n"
     ]
    }
   ],
   "source": [
    "# Adjacency Matrix directed\n",
    "import numpy as np\n",
    "\n",
    "num_ver = 4\n",
    "adj_matrix = np.zeros((num_ver, num_ver), dtype=int)\n",
    "# print(adj_matrix)\n",
    "edges = [(0, 1), (0, 2), (1, 2), (2, 3)]\n",
    "for edge in edges:\n",
    "    v1, v2 = edge\n",
    "    adj_matrix[v1][v2] = 1\n",
    "    # adj_matrix[v2][v1] = 1\n",
    "print(adj_matrix)"
   ]
  },
  {
   "cell_type": "markdown",
   "metadata": {},
   "source": [
    "# pr 4\n"
   ]
  },
  {
   "cell_type": "markdown",
   "metadata": {},
   "source": [
    "### BFS\n"
   ]
  },
  {
   "cell_type": "code",
   "execution_count": null,
   "metadata": {},
   "outputs": [
    {
     "name": "stdout",
     "output_type": "stream",
     "text": [
      "BFS: \n",
      "5 3 7 2 4 8 "
     ]
    }
   ],
   "source": [
    "# BFS\n",
    "\n",
    "graph = {\"5\": [\"3\", \"7\"], \"3\": [\"2\", \"4\"], \"2\": [], \"4\": [], \"7\": [\"8\"], \"8\": []}\n",
    "\n",
    "visited = []\n",
    "queue = []\n",
    "\n",
    "\n",
    "def bfs(visited, graph, node):\n",
    "    visited.append(node)\n",
    "    queue.append(node)\n",
    "\n",
    "    while queue:\n",
    "        m = queue.pop(0)\n",
    "        print(m, end=\" \")\n",
    "\n",
    "        for neighbour in graph[m]:\n",
    "            if neighbour not in visited:\n",
    "                visited.append(neighbour)\n",
    "                queue.append(neighbour)\n",
    "\n",
    "\n",
    "print(\"BFS: \")\n",
    "bfs(visited, graph, \"5\")"
   ]
  },
  {
   "cell_type": "code",
   "execution_count": null,
   "metadata": {},
   "outputs": [
    {
     "name": "stdout",
     "output_type": "stream",
     "text": [
      "\n",
      "DFS: \n",
      "5 3 2 4 7 8 "
     ]
    }
   ],
   "source": [
    "# DFS\n",
    "\n",
    "graph = {\"5\": [\"3\", \"7\"], \"3\": [\"2\", \"4\"], \"2\": [], \"4\": [], \"7\": [\"8\"], \"8\": []}\n",
    "\n",
    "visited = set()\n",
    "\n",
    "def dfs(visited, graph, node):\n",
    "    if node not in visited:\n",
    "        print(node, end=\" \")\n",
    "        visited.add(node)\n",
    "        for neighbour in graph[node]:\n",
    "            dfs(visited, graph, neighbour)\n",
    "\n",
    "\n",
    "print(\"\\nDFS: \")\n",
    "dfs(visited, graph, \"5\")"
   ]
  },
  {
   "cell_type": "markdown",
   "metadata": {},
   "source": [
    "# pr 5\n"
   ]
  },
  {
   "cell_type": "code",
   "execution_count": null,
   "metadata": {},
   "outputs": [
    {
     "name": "stdout",
     "output_type": "stream",
     "text": [
      "Edges in mst: \n",
      "2-3 with weight 4\n",
      "0-3 with weight 5\n",
      "0-1 with weight 10\n"
     ]
    }
   ],
   "source": [
    "# khruskal's algorithm\n",
    "\n",
    "\n",
    "def find(parent, i):\n",
    "    while parent[i] != i:\n",
    "        i = parent[i]\n",
    "    return i\n",
    "\n",
    "\n",
    "def union(parent, rank, x, y):\n",
    "    root_x = find(parent, x)\n",
    "    root_y = find(parent, y)\n",
    "\n",
    "    if root_x != root_y:\n",
    "        if rank[root_x] > rank[root_y]:\n",
    "            parent[root_y] = root_x\n",
    "        elif rank[root_x] < rank[root_y]:\n",
    "            parent[root_x] = root_y\n",
    "        else:\n",
    "            parent[root_y] = root_x\n",
    "            rank[root_x] += 1\n",
    "\n",
    "\n",
    "def kruskal(vertices, edges):\n",
    "    edges.sort(key=lambda x: x[2])  # Sort edges by weight\n",
    "    parent = list(range(vertices))  # Initially, each node is its own parent\n",
    "    rank = [0] * vertices  # Initially, all nodes have rank 0\n",
    "    mst = []  # To store the edges of the Minimum Spanning Tree\n",
    "\n",
    "    for u, v, weight in edges:\n",
    "        root_u = find(parent, u)\n",
    "        root_v = find(parent, v)\n",
    "\n",
    "        if root_u != root_v:\n",
    "            mst.append((u, v, weight))  # Add this edge to the MST\n",
    "            union(parent, rank, root_u, root_v)  # Union the two sets\n",
    "\n",
    "    return mst\n",
    "\n",
    "\n",
    "# Example usage:\n",
    "vertices = 4\n",
    "edges = [(0, 1, 10), (0, 2, 6), (0, 3, 5), (1, 3, 15), (2, 3, 4)]\n",
    "\n",
    "mst = kruskal(vertices, edges)\n",
    "\n",
    "print(\"Edges in mst: \")\n",
    "for u, v, weight in mst:\n",
    "    print(f\"{u}-{v} with weight {weight}\")"
   ]
  },
  {
   "cell_type": "code",
   "execution_count": 2,
   "metadata": {},
   "outputs": [
    {
     "name": "stdout",
     "output_type": "stream",
     "text": [
      "Edge 0 - 3 with weight 4\n",
      "Edge 0 - 2 with weight 5\n",
      "Edge 0 - 1 with weight 9\n"
     ]
    }
   ],
   "source": [
    "# prim's algorithm\n",
    "\n",
    "\n",
    "def prim(graph, vertices):\n",
    "    mst = []\n",
    "    in_mst = [False] * vertices\n",
    "    key = [float(\"inf\")] * vertices\n",
    "    key[0] = 0\n",
    "    parent = [-1] * vertices\n",
    "\n",
    "    for _ in range(vertices):\n",
    "        min_key = float(\"inf\")\n",
    "        u = -1\n",
    "\n",
    "        for v in range(vertices):\n",
    "            if not in_mst[v] and key[v] < min_key:\n",
    "                min_key = key[v]\n",
    "                u = v\n",
    "\n",
    "        in_mst[u] = True\n",
    "\n",
    "        if parent[u] != -1:\n",
    "            mst.append([parent[u], u, key[u]])\n",
    "\n",
    "        for v, weight in graph[u]:\n",
    "            if not in_mst[v] and weight < key[v]:\n",
    "                key[v] = weight\n",
    "                parent[v] = u\n",
    "\n",
    "    return mst\n",
    "\n",
    "\n",
    "graph = {\n",
    "    0: [(1, 9), (2, 5), (3, 4)],\n",
    "    1: [(0, 9), (3, 14)],\n",
    "    2: [(0, 4), (3, 5)],\n",
    "    3: [(0, 5), (1, 14), (2, 5)],\n",
    "}\n",
    "vertices = 4\n",
    "\n",
    "mst = prim(graph, vertices)\n",
    "\n",
    "for u, v, weight in mst:\n",
    "    print(f\"Edge {u} - {v} with weight {weight}\")"
   ]
  },
  {
   "cell_type": "code",
   "execution_count": null,
   "metadata": {},
   "outputs": [
    {
     "name": "stdout",
     "output_type": "stream",
     "text": [
      "{'A': 0, 'B': 1, 'C': 3, 'D': 4}\n"
     ]
    }
   ],
   "source": [
    "# dijkstra algorithm\n",
    "\n",
    "import heapq\n",
    "\n",
    "def dijkstra(graph, start):\n",
    "    distances = {node: float(\"infinity\") for node in graph}\n",
    "    distances[start] = 0\n",
    "    pq = [(0, start)]\n",
    "    while pq:\n",
    "        current_distance, current_node = heapq.heappop(pq)\n",
    "        if current_distance > distances[current_node]:\n",
    "            continue\n",
    "        for neighbor, weight in graph[current_node].items():\n",
    "            distance = current_distance + weight\n",
    "            if distance < distances[neighbor]:\n",
    "                distances[neighbor] = distance\n",
    "                heapq.heappush(pq, (distance, neighbor))\n",
    "    return distances\n",
    "\n",
    "\n",
    "graph = {\n",
    "    \"A\": {\"B\": 1, \"C\": 4},\n",
    "    \"B\": {\"A\": 1, \"C\": 2, \"D\": 5},\n",
    "    \"C\": {\"A\": 4, \"B\": 2, \"D\": 1},\n",
    "    \"D\": {\"B\": 5, \"C\": 1},\n",
    "}\n",
    "\n",
    "print(dijkstra(graph, \"A\"))"
   ]
  },
  {
   "cell_type": "code",
   "execution_count": null,
   "metadata": {},
   "outputs": [
    {
     "name": "stdout",
     "output_type": "stream",
     "text": [
      "Distance from source to 0 is inf\n",
      "Distance from source to 1 is 0\n",
      "Distance from source to 2 is 2\n",
      "Distance from source to 3 is 3\n",
      "Distance from source to 4 is 8\n",
      "Distance from source to 5 is 6\n",
      "Distance from source to 6 is 9\n"
     ]
    }
   ],
   "source": [
    "# bellman ford algorithm\n",
    "\n",
    "def bellman_ford(graph, vertices, source):\n",
    "    distance = [float(\"infinity\")] * vertices\n",
    "    distance[source] = 0\n",
    "    for _ in range(vertices - 1):\n",
    "        for u, v, w in graph:\n",
    "            if distance[u] != float(\"infinity\") and distance[u] + w < distance[v]:\n",
    "                distance[v] = distance[u] + w\n",
    "    for u, v, w in graph:\n",
    "        if distance[u] != float(\"infinity\") and distance[u] + w < distance[v]:\n",
    "            print(\"Graph contains negative weight cycle\")\n",
    "            return\n",
    "    for i in range(vertices):\n",
    "        print(f\"Distance from source to {i} is {distance[i]}\")\n",
    "\n",
    "\n",
    "graph = [\n",
    "    (1, 2, 2),\n",
    "    (1, 3, 4),\n",
    "    (2, 3, 1),\n",
    "    (2, 4, 7),\n",
    "    (3, 5, 3),\n",
    "    (4, 6, 1),\n",
    "    (5, 4, 2),\n",
    "    (5, 6, 5),\n",
    "]\n",
    "bellman_ford(graph, 7, 1)"
   ]
  },
  {
   "cell_type": "code",
   "execution_count": 1,
   "metadata": {},
   "outputs": [
    {
     "name": "stdout",
     "output_type": "stream",
     "text": [
      "240.0\n"
     ]
    }
   ],
   "source": [
    "# knapsack problem\n",
    "def fractional_knapsack(capacity, items):\n",
    "    items.sort(key=lambda x: x[1] / x[0], reverse=True)\n",
    "    total_value = 0\n",
    "    for weight, profit in items:\n",
    "        if capacity > 0:\n",
    "            if weight <= capacity:\n",
    "                capacity -= weight\n",
    "                total_value += profit\n",
    "            else:\n",
    "                total_value += profit * (capacity / weight)\n",
    "                capacity = 0\n",
    "                break\n",
    "    return total_value\n",
    "\n",
    "\n",
    "items = [(10, 60), (20, 100), (30, 120)]\n",
    "capacity = 50\n",
    "print(fractional_knapsack(capacity, items))"
   ]
  },
  {
   "cell_type": "code",
   "execution_count": null,
   "metadata": {},
   "outputs": [
    {
     "name": "stdout",
     "output_type": "stream",
     "text": [
      "[0, 0, 0, 0, 0, 0]\n",
      "[0, 0, 12, 12, 12, 12]\n",
      "[0, 10, 12, 22, 22, 22]\n",
      "[0, 10, 12, 22, 30, 32]\n",
      "[0, 10, 15, 25, 30, 37]\n",
      "max value: 37\n"
     ]
    }
   ],
   "source": [
    "# 0 1 knapsack problem\n",
    "\n",
    "\n",
    "def knapsack(values, weights, capacity):\n",
    "    n = len(values)\n",
    "    dp = [[0] * (capacity + 1) for _ in range(n + 1)]\n",
    "    for i in range(1, n + 1):\n",
    "        for w in range(1, capacity + 1):\n",
    "            if weights[i - 1] <= w:\n",
    "                dp[i][w] = max(\n",
    "                    dp[i - 1][w], values[i - 1] + dp[i - 1][w - weights[i - 1]]\n",
    "                )\n",
    "            else:\n",
    "                dp[i][w] = dp[i - 1][w]\n",
    "\n",
    "    for row in dp:\n",
    "        print(row)\n",
    "\n",
    "    return dp[n][capacity]\n",
    "\n",
    "\n",
    "values = [12, 10, 20, 15]\n",
    "weights = [2, 1, 3, 2]\n",
    "capacity = 5\n",
    "\n",
    "max_value = knapsack(values, weights, capacity)\n",
    "print(f\"max value: {max_value}\")"
   ]
  },
  {
   "cell_type": "code",
   "execution_count": null,
   "metadata": {},
   "outputs": [
    {
     "name": "stdout",
     "output_type": "stream",
     "text": [
      "[5, 6, 7, 11, 12, 13]\n",
      "[13, 12, 11, 7, 6, 5]\n"
     ]
    }
   ],
   "source": [
    "# heap sort (max heap)\n",
    "\n",
    "def max_heap(arr, n, i):\n",
    "    largest = i\n",
    "    left = 2 * i + 1\n",
    "    right = 2 * i + 2\n",
    "    if left < n and arr[left] > arr[largest]:\n",
    "        largest = left\n",
    "    if right < n and arr[right] > arr[largest]:\n",
    "        largest = right\n",
    "    if largest != i:\n",
    "        arr[i], arr[largest] = arr[largest], arr[i]\n",
    "        max_heap(arr, n, largest)\n",
    "\n",
    "\n",
    "def heap_sort(arr):\n",
    "    n = len(arr)\n",
    "    for i in range(n // 2 - 1, -1, -1):\n",
    "        max_heap(arr, n, i)\n",
    "    for i in range(n - 1, 0, -1):\n",
    "        arr[i], arr[0] = arr[0], arr[i]\n",
    "        max_heap(arr, i, 0)\n",
    "    return arr\n",
    "\n",
    "\n",
    "arr = [12, 11, 13, 5, 6, 7]\n",
    "\n",
    "print(heap_sort(arr))\n",
    "\n",
    "# heap sort (min heap)\n",
    "\n",
    "def min_heap(arr, n, i):\n",
    "    smallest = i\n",
    "    left = 2 * i + 1\n",
    "    right = 2 * i + 2\n",
    "    if left < n and arr[left] < arr[smallest]:\n",
    "        smallest = left\n",
    "    if right < n and arr[right] < arr[smallest]:\n",
    "        smallest = right\n",
    "    if smallest != i:\n",
    "        arr[i], arr[smallest] = arr[smallest], arr[i]\n",
    "        min_heap(arr, n, smallest)\n",
    "\n",
    "\n",
    "def heap_sort(arr):\n",
    "    n = len(arr)\n",
    "    for i in range(n // 2 - 1, -1, -1):\n",
    "        min_heap(arr, n, i)\n",
    "    for i in range(n - 1, 0, -1):\n",
    "        arr[i], arr[0] = arr[0], arr[i]\n",
    "        min_heap(arr, i, 0)\n",
    "    return arr\n",
    "\n",
    "arr = [12, 11, 13, 5, 6, 7]\n",
    "\n",
    "print(heap_sort(arr))"
   ]
  },
  {
   "cell_type": "code",
   "execution_count": null,
   "metadata": {},
   "outputs": [
    {
     "name": "stdout",
     "output_type": "stream",
     "text": [
      "The 3 th smallest element is 7\n"
     ]
    }
   ],
   "source": [
    "# ith order statistics (quick select)\n",
    "\n",
    "import random\n",
    "\n",
    "def quick_select(arr, k):\n",
    "    if len(arr) == 1:\n",
    "        return arr[0]\n",
    "    pivot = random.choice(arr)\n",
    "    left = [x for x in arr if x < pivot]\n",
    "    mid = [x for x in arr if x == pivot]\n",
    "    right = [x for x in arr if x > pivot]\n",
    "\n",
    "    if k < len(left):\n",
    "        return quick_select(left, k)\n",
    "    elif k < len(left) + len(mid):\n",
    "        return mid[0]\n",
    "    else:\n",
    "        return quick_select(right, k - len(left) - len(mid))\n",
    "\n",
    "arr = [12, 11, 13, 5, 6, 7]\n",
    "\n",
    "k = 2\n",
    "\n",
    "print(f\"The {k+1} th smallest element is {quick_select(arr,k)}\")"
   ]
  },
  {
   "cell_type": "code",
   "execution_count": null,
   "metadata": {},
   "outputs": [
    {
     "name": "stdout",
     "output_type": "stream",
     "text": [
      "[0, 1, 0, 0]\n",
      "[0, 0, 0, 1]\n",
      "[1, 0, 0, 0]\n",
      "[0, 0, 1, 0]\n"
     ]
    }
   ],
   "source": [
    "# n queen problem\n",
    "\n",
    "def is_safe(board, row, col, n):\n",
    "    # Check column\n",
    "    for i in range(row):\n",
    "        if board[i][col] == 1:\n",
    "            return False\n",
    "\n",
    "    # Check upper-left diagonal\n",
    "    for i, j in zip(range(row, -1, -1), range(col, -1, -1)):\n",
    "        if board[i][j] == 1:\n",
    "            return False\n",
    "\n",
    "    # Check upper-right diagonal\n",
    "    for i, j in zip(range(row, -1, -1), range(col, n)):\n",
    "        if board[i][j] == 1:\n",
    "            return False\n",
    "\n",
    "    return True\n",
    "\n",
    "def solve_n_queen(board, row, n):\n",
    "    if row >= n:  # All queens are placed\n",
    "        return True\n",
    "\n",
    "    for col in range(n):  # Try all columns in the current row\n",
    "        if is_safe(board, row, col, n):\n",
    "            board[row][col] = 1  # Place the queen\n",
    "            if solve_n_queen(board, row + 1, n):  # Recur for the next row\n",
    "                return True\n",
    "            board[row][col] = 0  # Backtrack\n",
    "\n",
    "    return False\n",
    "\n",
    "def n_queen(n):\n",
    "    board = [[0 for _ in range(n)] for _ in range(n)]  # Initialize board\n",
    "    if not solve_n_queen(board, 0, n):\n",
    "        print(\"No solution exists\")\n",
    "    else:\n",
    "        for row in board:\n",
    "            print(row)\n",
    "\n",
    "# Test with 4 queens\n",
    "n = 4\n",
    "n_queen(n)\n"
   ]
  },
  {
   "cell_type": "code",
   "execution_count": null,
   "metadata": {},
   "outputs": [],
   "source": []
  }
 ],
 "metadata": {
  "kernelspec": {
   "display_name": "base",
   "language": "python",
   "name": "python3"
  },
  "language_info": {
   "codemirror_mode": {
    "name": "ipython",
    "version": 3
   },
   "file_extension": ".py",
   "mimetype": "text/x-python",
   "name": "python",
   "nbconvert_exporter": "python",
   "pygments_lexer": "ipython3",
   "version": "3.12.7"
  }
 },
 "nbformat": 4,
 "nbformat_minor": 2
}
